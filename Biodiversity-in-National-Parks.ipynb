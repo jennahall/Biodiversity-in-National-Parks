{
 "cells": [
  {
   "cell_type": "markdown",
   "id": "6623ae5b-dd55-4057-a325-fee2ed5a7bde",
   "metadata": {},
   "source": [
    "# Introduction\n",
    "\n",
    "This goal of this project is to analyze biodiversity data from the National Parks Service, particularly around various species observed in different national park locations.\n",
    "\n",
    "During this project, I will be analyzing, cleaning, and ploting data. Additionally, I will be posing questions and using various data analysis techniques to answer them in a meaningful way.\n",
    "\n",
    "Here are a few questions this project has sought to answer:\n",
    "* Which species were spotted the most at each national park?\n",
    "* Which park has the highest and lowest number of reptiles?\n",
    "* What category has the most amount of endangered or threatened species?\n",
    "* Are certain categories of species more likely to be a species of concern, threatened, or endangered?\n",
    "* How many bat sightings have there been per park?\n",
    "\n",
    "## Data sources\n",
    "Both `Observations.csv` and `Species_info.csv` were provided by [Codecademy.com](https://www.codecademy.com/).\n",
    "\n",
    "# Setup\n",
    "## Import Python modules\n",
    "First, import the primary modules that will be used in this project:"
   ]
  },
  {
   "cell_type": "code",
   "execution_count": 108,
   "id": "f2e61284-076c-4379-9cf4-e57c0b38a77e",
   "metadata": {},
   "outputs": [],
   "source": [
    "import matplotlib.pyplot as plt\n",
    "import pandas as pd\n",
    "from scipy.stats import chi2_contingency\n",
    "import seaborn as sns"
   ]
  },
  {
   "cell_type": "markdown",
   "id": "d15f9fe3-2142-468f-9b20-e6a5094209c0",
   "metadata": {},
   "source": [
    "## Load data"
   ]
  },
  {
   "cell_type": "code",
   "execution_count": 109,
   "id": "29a8277f-9970-4ff6-bda3-7886b3ce47ce",
   "metadata": {},
   "outputs": [],
   "source": [
    "observations_df = pd.read_csv(\"observations.csv\").rename(columns={\"observations\": \"num_observations\"})\n",
    "species_info_df = pd.read_csv(\"species_info.csv\")"
   ]
  },
  {
   "cell_type": "markdown",
   "id": "663ddff2-5fdb-4a49-89d2-f81f8c1d3826",
   "metadata": {},
   "source": [
    "## Data exploration\n",
    "Let's familiarize ourselves with the data by looking at the first few rows of each Dataframe "
   ]
  },
  {
   "cell_type": "code",
   "execution_count": 110,
   "id": "9d79235a-f2ed-46d7-bd01-d83feac31ad5",
   "metadata": {},
   "outputs": [
    {
     "data": {
      "text/html": [
       "<div>\n",
       "<style scoped>\n",
       "    .dataframe tbody tr th:only-of-type {\n",
       "        vertical-align: middle;\n",
       "    }\n",
       "\n",
       "    .dataframe tbody tr th {\n",
       "        vertical-align: top;\n",
       "    }\n",
       "\n",
       "    .dataframe thead th {\n",
       "        text-align: right;\n",
       "    }\n",
       "</style>\n",
       "<table border=\"1\" class=\"dataframe\">\n",
       "  <thead>\n",
       "    <tr style=\"text-align: right;\">\n",
       "      <th></th>\n",
       "      <th>category</th>\n",
       "      <th>scientific_name</th>\n",
       "      <th>common_names</th>\n",
       "      <th>conservation_status</th>\n",
       "    </tr>\n",
       "  </thead>\n",
       "  <tbody>\n",
       "    <tr>\n",
       "      <th>0</th>\n",
       "      <td>Mammal</td>\n",
       "      <td>Clethrionomys gapperi gapperi</td>\n",
       "      <td>Gapper's Red-Backed Vole</td>\n",
       "      <td>NaN</td>\n",
       "    </tr>\n",
       "    <tr>\n",
       "      <th>1</th>\n",
       "      <td>Mammal</td>\n",
       "      <td>Bos bison</td>\n",
       "      <td>American Bison, Bison</td>\n",
       "      <td>NaN</td>\n",
       "    </tr>\n",
       "    <tr>\n",
       "      <th>2</th>\n",
       "      <td>Mammal</td>\n",
       "      <td>Bos taurus</td>\n",
       "      <td>Aurochs, Aurochs, Domestic Cattle (Feral), Dom...</td>\n",
       "      <td>NaN</td>\n",
       "    </tr>\n",
       "    <tr>\n",
       "      <th>3</th>\n",
       "      <td>Mammal</td>\n",
       "      <td>Ovis aries</td>\n",
       "      <td>Domestic Sheep, Mouflon, Red Sheep, Sheep (Feral)</td>\n",
       "      <td>NaN</td>\n",
       "    </tr>\n",
       "    <tr>\n",
       "      <th>4</th>\n",
       "      <td>Mammal</td>\n",
       "      <td>Cervus elaphus</td>\n",
       "      <td>Wapiti Or Elk</td>\n",
       "      <td>NaN</td>\n",
       "    </tr>\n",
       "  </tbody>\n",
       "</table>\n",
       "</div>"
      ],
      "text/plain": [
       "  category                scientific_name  \\\n",
       "0   Mammal  Clethrionomys gapperi gapperi   \n",
       "1   Mammal                      Bos bison   \n",
       "2   Mammal                     Bos taurus   \n",
       "3   Mammal                     Ovis aries   \n",
       "4   Mammal                 Cervus elaphus   \n",
       "\n",
       "                                        common_names conservation_status  \n",
       "0                           Gapper's Red-Backed Vole                 NaN  \n",
       "1                              American Bison, Bison                 NaN  \n",
       "2  Aurochs, Aurochs, Domestic Cattle (Feral), Dom...                 NaN  \n",
       "3  Domestic Sheep, Mouflon, Red Sheep, Sheep (Feral)                 NaN  \n",
       "4                                      Wapiti Or Elk                 NaN  "
      ]
     },
     "execution_count": 110,
     "metadata": {},
     "output_type": "execute_result"
    }
   ],
   "source": [
    "observations_df.head()\n",
    "species_info_df.head()"
   ]
  },
  {
   "cell_type": "markdown",
   "id": "e2f84cf0-cd2e-446f-8e53-1714b2aed171",
   "metadata": {},
   "source": [
    "Now, let's use the `.info()` method to dive deeper into the Dataframes\n"
   ]
  },
  {
   "cell_type": "code",
   "execution_count": 111,
   "id": "e73bb212-59d1-4fe2-8a78-1df9ca265ffb",
   "metadata": {},
   "outputs": [
    {
     "name": "stdout",
     "output_type": "stream",
     "text": [
      "<class 'pandas.core.frame.DataFrame'>\n",
      "RangeIndex: 23296 entries, 0 to 23295\n",
      "Data columns (total 3 columns):\n",
      " #   Column            Non-Null Count  Dtype \n",
      "---  ------            --------------  ----- \n",
      " 0   scientific_name   23296 non-null  object\n",
      " 1   park_name         23296 non-null  object\n",
      " 2   num_observations  23296 non-null  int64 \n",
      "dtypes: int64(1), object(2)\n",
      "memory usage: 546.1+ KB\n",
      "<class 'pandas.core.frame.DataFrame'>\n",
      "RangeIndex: 5824 entries, 0 to 5823\n",
      "Data columns (total 4 columns):\n",
      " #   Column               Non-Null Count  Dtype \n",
      "---  ------               --------------  ----- \n",
      " 0   category             5824 non-null   object\n",
      " 1   scientific_name      5824 non-null   object\n",
      " 2   common_names         5824 non-null   object\n",
      " 3   conservation_status  191 non-null    object\n",
      "dtypes: object(4)\n",
      "memory usage: 182.1+ KB\n"
     ]
    }
   ],
   "source": [
    "observations_df.info()\n",
    "species_info_df.info()"
   ]
  },
  {
   "cell_type": "markdown",
   "id": "8deb70fe-fcf3-42d8-9138-4256827c0386",
   "metadata": {},
   "source": [
    "Finally, we'll continue familiarizing ourselves with the data by looking at unique values in certain columns.\n"
   ]
  },
  {
   "cell_type": "code",
   "execution_count": 112,
   "id": "6218e9ec-d2e3-4b86-8f1c-130c2ac22893",
   "metadata": {},
   "outputs": [
    {
     "data": {
      "text/plain": [
       "array(['Mammal', 'Bird', 'Reptile', 'Amphibian', 'Fish', 'Vascular Plant',\n",
       "       'Nonvascular Plant'], dtype=object)"
      ]
     },
     "execution_count": 112,
     "metadata": {},
     "output_type": "execute_result"
    }
   ],
   "source": [
    "observations_df[\"scientific_name\"].nunique()\n",
    "species_info_df[\"category\"].unique()"
   ]
  },
  {
   "cell_type": "markdown",
   "id": "a9d5d6db-62e3-4d28-9df0-5dc92ef9d4f4",
   "metadata": {},
   "source": [
    "# Data cleaning\n",
    "Now that we understand more about the data and its structure, let's clean the data so it's ready for analysis."
   ]
  },
  {
   "cell_type": "markdown",
   "id": "dfb4f380-1ea1-4cc5-a162-79ce0c577e02",
   "metadata": {},
   "source": [
    "Let's start by checking for missing data."
   ]
  },
  {
   "cell_type": "code",
   "execution_count": 113,
   "id": "fbbf67aa-5f13-4d1f-90c2-9689b105ec1c",
   "metadata": {},
   "outputs": [
    {
     "data": {
      "text/plain": [
       "scientific_name     0\n",
       "park_name           0\n",
       "num_observations    0\n",
       "dtype: int64"
      ]
     },
     "execution_count": 113,
     "metadata": {},
     "output_type": "execute_result"
    }
   ],
   "source": [
    "observations_df.isnull().sum()"
   ]
  },
  {
   "cell_type": "code",
   "execution_count": 114,
   "id": "d11ecf2f-4e6b-488b-a409-0e82976bbe66",
   "metadata": {},
   "outputs": [
    {
     "data": {
      "text/plain": [
       "category                  0\n",
       "scientific_name           0\n",
       "common_names              0\n",
       "conservation_status    5633\n",
       "dtype: int64"
      ]
     },
     "execution_count": 114,
     "metadata": {},
     "output_type": "execute_result"
    }
   ],
   "source": [
    "species_info_df.isnull().sum()"
   ]
  },
  {
   "cell_type": "markdown",
   "id": "73db370b-1973-47fd-8d48-8a91de8104f9",
   "metadata": {},
   "source": [
    "We can see `species_info_df` has 5632 null values in the `conservation_status` column - let's see what those values are."
   ]
  },
  {
   "cell_type": "code",
   "execution_count": 115,
   "id": "612a91a9-ff38-4103-b509-0c6d2eca7135",
   "metadata": {},
   "outputs": [
    {
     "data": {
      "text/plain": [
       "array([nan, 'Species of Concern', 'Endangered', 'Threatened',\n",
       "       'In Recovery'], dtype=object)"
      ]
     },
     "execution_count": 115,
     "metadata": {},
     "output_type": "execute_result"
    }
   ],
   "source": [
    "species_info_df[\"conservation_status\"].unique()"
   ]
  },
  {
   "cell_type": "markdown",
   "id": "1bde7f9d-e812-4690-9e00-9f72c1f0a615",
   "metadata": {},
   "source": [
    "We can see that NaN values are assigned to species that are currently not endangered or threatened. According to the [IUCN Red List of Endangered Species](https://www.iucnredlist.org/), these species should be assigned a value of \"Least Concern.\""
   ]
  },
  {
   "cell_type": "code",
   "execution_count": 116,
   "id": "757d3990-6a49-4a34-b065-e5037f65ac9c",
   "metadata": {},
   "outputs": [],
   "source": [
    "species_info_df[\"conservation_status\"] = species_info_df[\"conservation_status\"].fillna('Least Concern')"
   ]
  },
  {
   "cell_type": "markdown",
   "id": "aa5be44d-0977-497e-b465-bc7a774536f7",
   "metadata": {},
   "source": [
    "To make our plots cleaner and save space, let's remove unnecessary words from `park_name`"
   ]
  },
  {
   "cell_type": "code",
   "execution_count": 117,
   "id": "df0c2a3d-b77f-4a1d-b741-2ce24f519c30",
   "metadata": {},
   "outputs": [],
   "source": [
    "observations_df[\"park_name\"] = observations_df[\"park_name\"].str.replace(\" National Park\", \"\")"
   ]
  },
  {
   "cell_type": "markdown",
   "id": "677219d2-b978-434f-bcd9-159715205ca1",
   "metadata": {},
   "source": [
    "Finally, since values in the conservation_status column have ordered categories, we will order them now."
   ]
  },
  {
   "cell_type": "code",
   "execution_count": 118,
   "id": "b1cb1509-ed1b-4eb1-a496-151d7ca78513",
   "metadata": {},
   "outputs": [],
   "source": [
    "species_info_df[\"conservation_status\"] = pd.Categorical(species_info_df[\"conservation_status\"],\n",
    "                                                        categories=[\"Least Concern\",\n",
    "                                                                    \"Species of Concern\",\n",
    "                                                                    \"In Recovery\",\n",
    "                                                                    \"Threatened\",\n",
    "                                                                    \"Endangered\"], ordered=True)"
   ]
  },
  {
   "cell_type": "markdown",
   "id": "a36f7558-072b-4af2-beb1-da09d6fca9d0",
   "metadata": {},
   "source": [
    "# Research questions"
   ]
  },
  {
   "cell_type": "markdown",
   "id": "845e04b0-f439-40a7-9626-4b91975c6a64",
   "metadata": {},
   "source": [
    "### Question 1: Which species were spotted the most at each park?\n",
    "To answer this question, we need to merge our two dataframes"
   ]
  },
  {
   "cell_type": "code",
   "execution_count": 119,
   "id": "96857304-f3f9-45f7-87b5-defe73886517",
   "metadata": {},
   "outputs": [],
   "source": [
    "species_observations_df = observations_df.merge(species_info_df, how=\"outer\", on=\"scientific_name\")"
   ]
  },
  {
   "cell_type": "markdown",
   "id": "5ae6864c-7330-4d96-b563-741f74dc2fa8",
   "metadata": {},
   "source": [
    "Next, we'll group by `park name` and `scientific name`"
   ]
  },
  {
   "cell_type": "code",
   "execution_count": 120,
   "id": "cc8eb30b-548e-4b2e-a430-bd5ae1ec0fb6",
   "metadata": {},
   "outputs": [],
   "source": [
    "grouped_park_scientific_name = (species_observations_df.groupby([\"park_name\", \"scientific_name\"])[\"num_observations\"]\n",
    "                                .max().reset_index().sort_values(by=\"num_observations\", ascending=False))"
   ]
  },
  {
   "cell_type": "markdown",
   "id": "d9754380-c108-4f34-8844-df81e101384b",
   "metadata": {},
   "source": [
    "Finally, we'll return the highest value in each park and have our answer."
   ]
  },
  {
   "cell_type": "code",
   "execution_count": 121,
   "id": "42b768cb-0932-4073-b404-34eb06e06c69",
   "metadata": {},
   "outputs": [
    {
     "name": "stdout",
     "output_type": "stream",
     "text": [
      "                                       scientific_name  num_observations\n",
      "park_name                                                               \n",
      "Great Smoky Mountains         Sonchus asper ssp. asper               147\n",
      "Bryce                             Valerianella radiata               176\n",
      "Yosemite               Ivesia shockleyi var. shockleyi               223\n",
      "Yellowstone                     Lycopodium tristachyum               321\n"
     ]
    }
   ],
   "source": [
    "most_spotted_species_per_park = grouped_park_scientific_name.groupby(\"park_name\").first()\n",
    "print(most_spotted_species_per_park.sort_values(by=\"num_observations\", ascending=True))"
   ]
  },
  {
   "cell_type": "markdown",
   "id": "71be56c1-d928-4b96-950d-7e176f123b56",
   "metadata": {},
   "source": [
    "### Question 2: Which park has the highest and lowest number of reptiles?"
   ]
  },
  {
   "cell_type": "code",
   "execution_count": 122,
   "id": "b02a43b3-0f26-4b75-af11-1c8601b96e5b",
   "metadata": {},
   "outputs": [
    {
     "name": "stdout",
     "output_type": "stream",
     "text": [
      "park_name\n",
      "Great Smoky Mountains     5841\n",
      "Bryce                     8141\n",
      "Yosemite                 11779\n",
      "Yellowstone              20061\n",
      "Name: num_observations, dtype: int64\n"
     ]
    }
   ],
   "source": [
    "# Filter Dataframe to reptile records\n",
    "reptile_species = species_observations_df[species_observations_df[\"category\"] == \"Reptile\"]\n",
    "\n",
    "# Group by national parks and sort values\n",
    "grouped_reptile_observations = reptile_species.groupby(\"park_name\")[\"num_observations\"].sum().sort_values()\n",
    "print(grouped_reptile_observations)"
   ]
  },
  {
   "cell_type": "markdown",
   "id": "ecb0294e-06c6-4278-8afa-b170493c4e5c",
   "metadata": {},
   "source": [
    "We found that Great Smoky Mountains National Park has the least and Yellowstone National Park has the most observations of reptiles."
   ]
  },
  {
   "cell_type": "markdown",
   "id": "297c0b53-a958-498d-890a-78462f46f188",
   "metadata": {},
   "source": [
    "Now let's plot our results:"
   ]
  },
  {
   "cell_type": "code",
   "execution_count": 123,
   "id": "2f3ab0b0-5e16-4ceb-b484-e0e07b77f655",
   "metadata": {},
   "outputs": [
    {
     "data": {
      "image/png": "[encoded data removed]",
      "text/plain": [
       "<Figure size 640x480 with 1 Axes>"
      ]
     },
     "metadata": {},
     "output_type": "display_data"
    }
   ],
   "source": [
    "ax = sns.barplot(data=grouped_reptile_observations)\n",
    "ax.set(xlabel=\"National Park\", ylabel=\"Total Observations\")\n",
    "plt.show()\n",
    "plt.close()"
   ]
  },
  {
   "cell_type": "markdown",
   "id": "90b66360-98b9-485f-9188-62b19480b9ce",
   "metadata": {},
   "source": [
    "### Question 3: What category has the most amount of endangered or threatened species?"
   ]
  },
  {
   "cell_type": "code",
   "execution_count": 124,
   "id": "73e295b6-30e9-4dfb-90b9-41ebb1f33acb",
   "metadata": {},
   "outputs": [
    {
     "name": "stdout",
     "output_type": "stream",
     "text": [
      "category\n",
      "Mammal            52\n",
      "Fish              32\n",
      "Bird              16\n",
      "Amphibian         12\n",
      "Vascular Plant    12\n",
      "Name: count, dtype: int64\n"
     ]
    }
   ],
   "source": [
    "# Find rows where conservation status is endangered or threatened\n",
    "endangered_threatened_species = species_observations_df[(species_observations_df[\"conservation_status\"].isin([\"Endangered\", \"Threatened\"]))]\n",
    "\n",
    "# Count by category\n",
    "e_t_category_counts = endangered_threatened_species[\"category\"].value_counts(ascending=False)\n",
    "print(e_t_category_counts)"
   ]
  },
  {
   "cell_type": "markdown",
   "id": "be24bc13-38cd-4fb6-a19a-0b67a605eeaa",
   "metadata": {},
   "source": [
    "We found that **mammals** have the most amount of endangered or threatened species.\n",
    "\n",
    "Now, let's plot our result:"
   ]
  },
  {
   "cell_type": "code",
   "execution_count": 125,
   "id": "49224963-0914-4f42-986f-a376436fb2be",
   "metadata": {},
   "outputs": [
    {
     "data": {
      "image/png": "[encoded data removed]",
      "text/plain": [
       "<Figure size 640x480 with 1 Axes>"
      ]
     },
     "metadata": {},
     "output_type": "display_data"
    }
   ],
   "source": [
    "sns.set(style=\"darkgrid\")\n",
    "ax = sns.countplot(data=endangered_threatened_species, x=\"category\", order=endangered_threatened_species[\"category\"].value_counts().index)\n",
    "ax.set(xlabel=\"Category\", ylabel=\"Num endangered or threatened\")\n",
    "plt.show()\n",
    "plt.close()"
   ]
  },
  {
   "cell_type": "markdown",
   "id": "f11eba86-f348-424a-87ee-ad8cb86fd35c",
   "metadata": {},
   "source": [
    "### Question 4: Are certain categories of species more likely to be a species of concern, threatened, or endangered?"
   ]
  },
  {
   "cell_type": "code",
   "execution_count": 126,
   "id": "0bc54869-a81f-4f63-9035-bcb8469746f0",
   "metadata": {},
   "outputs": [
    {
     "name": "stdout",
     "output_type": "stream",
     "text": [
      "             category  is_protected  scientific_name\n",
      "0           Amphibian         False               72\n",
      "1           Amphibian          True                7\n",
      "2                Bird         False              416\n",
      "3                Bird          True               72\n",
      "4                Fish         False              115\n",
      "5                Fish          True               11\n",
      "6              Mammal         False              147\n",
      "7              Mammal          True               30\n",
      "8   Nonvascular Plant         False              328\n",
      "9   Nonvascular Plant          True                5\n",
      "10            Reptile         False               73\n",
      "11            Reptile          True                5\n",
      "12     Vascular Plant         False             4216\n",
      "13     Vascular Plant          True               46\n"
     ]
    }
   ],
   "source": [
    "# Creating a new column indicating whether a record is protected or not\n",
    "species_info_df[\"is_protected\"] = (species_info_df[\"conservation_status\"].isin([\"Species of Concern\", \"Threatened\", \"Endangered\"]))\n",
    "\n",
    "category_counts = species_info_df.groupby([\"category\", \"is_protected\"]).scientific_name.nunique().reset_index()\n",
    "print(category_counts)"
   ]
  },
  {
   "cell_type": "markdown",
   "id": "36122a56-c9f3-4d73-9d22-ae3c15c8dcbd",
   "metadata": {},
   "source": [
    "We have the information we need, however, it's difficult to read. Let's pivot our results."
   ]
  },
  {
   "cell_type": "code",
   "execution_count": 127,
   "id": "96cdbb9a-355a-4271-8765-e0982e4cbd6b",
   "metadata": {},
   "outputs": [
    {
     "name": "stdout",
     "output_type": "stream",
     "text": [
      "            category  not_protected  protected\n",
      "0          Amphibian             72          7\n",
      "1               Bird            416         72\n",
      "2               Fish            115         11\n",
      "3             Mammal            147         30\n",
      "4  Nonvascular Plant            328          5\n",
      "5            Reptile             73          5\n",
      "6     Vascular Plant           4216         46\n"
     ]
    }
   ],
   "source": [
    "category_pivot = category_counts.pivot(columns=\"is_protected\", index=\"category\", values=\"scientific_name\").reset_index()\n",
    "category_pivot.columns = [\"category\", \"not_protected\", \"protected\"]\n",
    "print(category_pivot)"
   ]
  },
  {
   "cell_type": "markdown",
   "id": "9ba069f0-f17e-4f7e-9e69-30dd1500b69b",
   "metadata": {},
   "source": [
    "Now our data is much easier to read. Let's continue by creating a contingency table based on data for Chi squared test"
   ]
  },
  {
   "cell_type": "code",
   "execution_count": 128,
   "id": "abeeffb9-605b-4560-815a-4e4e1f81715b",
   "metadata": {},
   "outputs": [
    {
     "name": "stdout",
     "output_type": "stream",
     "text": [
      "Chi2ContingencyResult(statistic=np.float64(0.32772967060578273), pvalue=np.float64(0.5669990082889063), dof=1, expected_freq=array([[ 27.14887218, 149.85112782],\n",
      "       [ 74.85112782, 413.14887218]]))\n"
     ]
    }
   ],
   "source": [
    "# Mammal vs Bird contingency\n",
    "mammal_bird_contingency = [[30, 147], [72, 416]]\n",
    "print(chi2_contingency(mammal_bird_contingency))"
   ]
  },
  {
   "cell_type": "markdown",
   "id": "fea8ceac-337a-4dee-8289-a9b3f4dd03da",
   "metadata": {},
   "source": [
    "We can see our **p-value is 0.57**. Given the standard significance threshold of 0.05, the obtained p-valueis much larger. In the case of mammals and birds, there **does not** seem to be any significant relationship between them, indicating that the variables are independent.\n",
    "\n",
    "Let's see if we'll have better luck with a different category."
   ]
  },
  {
   "cell_type": "code",
   "execution_count": 129,
   "id": "a822f7e5-2c54-4b44-ab88-12b3aa74d675",
   "metadata": {},
   "outputs": [
    {
     "name": "stdout",
     "output_type": "stream",
     "text": [
      "Chi2ContingencyResult(statistic=np.float64(4.227179070929071), pvalue=np.float64(0.03978150659000946), dof=1, expected_freq=array([[ 24.29411765, 152.70588235],\n",
      "       [ 10.70588235,  67.29411765]]))\n"
     ]
    }
   ],
   "source": [
    "# Mammal vs Reptile contingency\n",
    "mammal_reptile_contingency = [[30, 147], [5, 73]]\n",
    "print(chi2_contingency(mammal_reptile_contingency))"
   ]
  },
  {
   "cell_type": "markdown",
   "id": "c3f0d353-a678-4c0e-83c6-3ae851544332",
   "metadata": {},
   "source": [
    "In this case, the **p-value is 0.04** which is below the standard threshold of 0.05. This suggests that the difference between reptiles and mammals **is** statistically significant. Specifically, mammals are shown to have a statistically significant higher rate of needed protection compared to reptiles."
   ]
  },
  {
   "cell_type": "markdown",
   "id": "a27d616f-71d3-4908-b1d3-e8ae611cfacf",
   "metadata": {},
   "source": [
    "### Question 5: How many bat sightings have there been per park?"
   ]
  },
  {
   "cell_type": "code",
   "execution_count": 130,
   "id": "f20a5c2b-0746-4579-96c8-38115a4f7c67",
   "metadata": {},
   "outputs": [
    {
     "name": "stdout",
     "output_type": "stream",
     "text": [
      "               park_name  num_observations\n",
      "1  Great Smoky Mountains              2411\n",
      "0                  Bryce              3433\n",
      "3               Yosemite              4786\n",
      "2            Yellowstone              8362\n"
     ]
    }
   ],
   "source": [
    "# Finding all animals with a commmon name containing, 'bat'\n",
    "bats = species_observations_df[(species_observations_df[\"common_names\"].str.contains(\"Bat\", regex=True)) & (species_observations_df[\"category\"] == \"Mammal\")]\n",
    "bats_grouped = bats.groupby([\"park_name\"])[\"num_observations\"].sum().reset_index()\n",
    "print(bats_grouped.sort_values(by=\"num_observations\"))"
   ]
  },
  {
   "cell_type": "markdown",
   "id": "d9f46bb7-9a64-4b7e-8a8a-8e87b991257c",
   "metadata": {},
   "source": [
    "From the result we can see the breakdown of total bat sightings per park. Based on this data, if someone wants to visit a national park to see bats, Yellowstone is likely the best place for them to go.\n",
    "\n",
    "# Conclusion\n",
    "The project was able to make several data visualizations and inferences about the various species in four of the National Parks that comprised this data set.\n",
    "\n",
    "#### Analysis summary:\n",
    "**Which species were spotted the most at each park?**\n",
    "* The most spotted species in Bryce National Park is `Valerianella radiata`.\n",
    "* The most spotted species in Great Smoky Mountains National Park is `Sonchus asper ssp. asper`.\n",
    "* The most spotted species in Yellowstone National Park is `Lycopodium tristachyum`.\n",
    "* The most spotted species in Yosemite National Park is `Ivesia shockleyi var. shockleyi`.\n",
    "\n",
    "**Which park has the highest and lowest number of observed reptiles?**\n",
    "* Most: Yellowstone National Park\n",
    "* Least: Great Smoky Mountains National Park\n",
    "\n",
    "**What category has the most amount of endangered or threatened species?**\n",
    "* Mammals have the most amount of endangered or threatened species\n",
    "\n",
    "**Are certain categories of species more likely to be a species of concern, threatened, or endangered?**\n",
    "* While mammals and Birds did not have significant difference in conservation percentage, mammals and reptiles exhibited a statistically significant difference.\n",
    "\n",
    "**How many bat sightings have there been per park?**\n",
    "* Great Smoky Mountains National Park: 2411\n",
    "* Bryce National Park: 3433\n",
    "* Yosemite National Park: 4786\n",
    "* Yellowstone National Park: 8362"
   ]
  }
 ],
 "metadata": {
  "kernelspec": {
   "display_name": "Python 3 (ipykernel)",
   "language": "python",
   "name": "python3"
  },
  "language_info": {
   "codemirror_mode": {
    "name": "ipython",
    "version": 3
   },
   "file_extension": ".py",
   "mimetype": "text/x-python",
   "name": "python",
   "nbconvert_exporter": "python",
   "pygments_lexer": "ipython3",
   "version": "3.11.7"
  }
 },
 "nbformat": 4,
 "nbformat_minor": 5
}
